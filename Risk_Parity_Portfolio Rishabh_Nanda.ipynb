{
 "cells": [
  {
   "cell_type": "code",
   "execution_count": 94,
   "metadata": {},
   "outputs": [
    {
     "name": "stdout",
     "output_type": "stream",
     "text": [
      "Requirement already satisfied: scipy in c:\\users\\chand\\anaconda3\\lib\\site-packages (1.11.4)\n",
      "Requirement already satisfied: numpy<1.28.0,>=1.21.6 in c:\\users\\chand\\anaconda3\\lib\\site-packages (from scipy) (1.26.4)\n",
      "Note: you may need to restart the kernel to use updated packages.\n",
      "Requirement already satisfied: yfinance in c:\\users\\chand\\anaconda3\\lib\\site-packages (0.2.40)\n",
      "Requirement already satisfied: pandas>=1.3.0 in c:\\users\\chand\\anaconda3\\lib\\site-packages (from yfinance) (2.1.4)\n",
      "Requirement already satisfied: numpy>=1.16.5 in c:\\users\\chand\\anaconda3\\lib\\site-packages (from yfinance) (1.26.4)\n",
      "Requirement already satisfied: requests>=2.31 in c:\\users\\chand\\anaconda3\\lib\\site-packages (from yfinance) (2.31.0)\n",
      "Requirement already satisfied: multitasking>=0.0.7 in c:\\users\\chand\\anaconda3\\lib\\site-packages (from yfinance) (0.0.11)\n",
      "Requirement already satisfied: lxml>=4.9.1 in c:\\users\\chand\\anaconda3\\lib\\site-packages (from yfinance) (4.9.3)\n",
      "Requirement already satisfied: platformdirs>=2.0.0 in c:\\users\\chand\\anaconda3\\lib\\site-packages (from yfinance) (3.10.0)\n",
      "Requirement already satisfied: pytz>=2022.5 in c:\\users\\chand\\anaconda3\\lib\\site-packages (from yfinance) (2023.3.post1)\n",
      "Requirement already satisfied: frozendict>=2.3.4 in c:\\users\\chand\\anaconda3\\lib\\site-packages (from yfinance) (2.4.4)\n",
      "Requirement already satisfied: peewee>=3.16.2 in c:\\users\\chand\\anaconda3\\lib\\site-packages (from yfinance) (3.17.6)\n",
      "Requirement already satisfied: beautifulsoup4>=4.11.1 in c:\\users\\chand\\anaconda3\\lib\\site-packages (from yfinance) (4.12.2)\n",
      "Requirement already satisfied: html5lib>=1.1 in c:\\users\\chand\\anaconda3\\lib\\site-packages (from yfinance) (1.1)\n",
      "Requirement already satisfied: soupsieve>1.2 in c:\\users\\chand\\anaconda3\\lib\\site-packages (from beautifulsoup4>=4.11.1->yfinance) (2.5)\n",
      "Requirement already satisfied: six>=1.9 in c:\\users\\chand\\anaconda3\\lib\\site-packages (from html5lib>=1.1->yfinance) (1.16.0)\n",
      "Requirement already satisfied: webencodings in c:\\users\\chand\\anaconda3\\lib\\site-packages (from html5lib>=1.1->yfinance) (0.5.1)\n",
      "Requirement already satisfied: python-dateutil>=2.8.2 in c:\\users\\chand\\anaconda3\\lib\\site-packages (from pandas>=1.3.0->yfinance) (2.8.2)\n",
      "Requirement already satisfied: tzdata>=2022.1 in c:\\users\\chand\\anaconda3\\lib\\site-packages (from pandas>=1.3.0->yfinance) (2023.3)\n",
      "Requirement already satisfied: charset-normalizer<4,>=2 in c:\\users\\chand\\anaconda3\\lib\\site-packages (from requests>=2.31->yfinance) (2.0.4)\n",
      "Requirement already satisfied: idna<4,>=2.5 in c:\\users\\chand\\anaconda3\\lib\\site-packages (from requests>=2.31->yfinance) (3.4)\n",
      "Requirement already satisfied: urllib3<3,>=1.21.1 in c:\\users\\chand\\anaconda3\\lib\\site-packages (from requests>=2.31->yfinance) (2.0.7)\n",
      "Requirement already satisfied: certifi>=2017.4.17 in c:\\users\\chand\\anaconda3\\lib\\site-packages (from requests>=2.31->yfinance) (2024.2.2)\n",
      "Note: you may need to restart the kernel to use updated packages.\n"
     ]
    }
   ],
   "source": [
    "%pip install scipy\n",
    "%pip install yfinance \n",
    "import pandas as pd\n",
    "import numpy as np\n",
    "import yfinance as yf\n",
    "from scipy.optimize import minimize # Import the minimize function\n",
    "\n"
   ]
  },
  {
   "cell_type": "code",
   "execution_count": 95,
   "metadata": {},
   "outputs": [
    {
     "name": "stderr",
     "output_type": "stream",
     "text": [
      "[*********************100%%**********************]  1 of 1 completed\n",
      "[*********************100%%**********************]  1 of 1 completed\n",
      "[*********************100%%**********************]  1 of 1 completed\n",
      "[*********************100%%**********************]  1 of 1 completed\n",
      "[*********************100%%**********************]  1 of 1 completed\n",
      "[*********************100%%**********************]  1 of 1 completed\n"
     ]
    }
   ],
   "source": [
    "mmm = yf.download(tickers='MMM', period='6mo')\n",
    "wbd = yf.download(tickers='WBD', period='6mo')\n",
    "jnj = yf.download(tickers='JNJ', period='6mo')\n",
    "aapl =yf.download(tickers='AAPL',period='6mo')\n",
    "hon = yf.download(tickers='HON', period='6mo')\n",
    "nvda = yf.download(tickers='NVDA', period='6mo')\n"
   ]
  },
  {
   "cell_type": "code",
   "execution_count": 96,
   "metadata": {},
   "outputs": [
    {
     "name": "stdout",
     "output_type": "stream",
     "text": [
      "                  3M       WBD       JNJ      AAPL     HONEY    Nvidia\n",
      "Date                                                                  \n",
      "2024-01-09  0.002205 -0.032456  0.000619 -0.002263 -0.005082  0.016975\n",
      "2024-01-10 -0.007333 -0.005440  0.001485  0.005671  0.003819  0.022770\n",
      "2024-01-11  0.005725 -0.039198 -0.004448 -0.003222 -0.003607  0.008684\n",
      "2024-01-12 -0.007345  0.010436  0.007695  0.001778 -0.002826 -0.002043\n",
      "2024-01-16 -0.004439 -0.028169 -0.011516 -0.012317 -0.016559  0.030561\n",
      "...              ...       ...       ...       ...       ...       ...\n",
      "2024-06-28 -0.009499  0.012245  0.002469 -0.016254 -0.003918 -0.003629\n",
      "2024-07-01 -0.015461 -0.045699  0.001916  0.029105 -0.012129  0.006152\n",
      "2024-07-02  0.010039  0.014084 -0.002800  0.016240  0.010808 -0.013113\n",
      "2024-07-03  0.000000  0.004167 -0.002328  0.005811 -0.003611  0.045732\n",
      "2024-07-05 -0.002952 -0.002766  0.005422  0.021620 -0.001035 -0.019099\n",
      "\n",
      "[123 rows x 6 columns]\n"
     ]
    }
   ],
   "source": [
    "mmm['Return'] = mmm['Adj Close'].pct_change()\n",
    "wbd['Return'] = wbd['Adj Close'].pct_change()\n",
    "jnj['Return'] = jnj['Adj Close'].pct_change()\n",
    "aapl['Return'] = aapl['Adj Close'].pct_change()\n",
    "hon['Return'] = hon['Adj Close'].pct_change()\n",
    "nvda['Return'] = nvda['Adj Close'].pct_change()\n",
    "returns = pd.DataFrame({\n",
    "    '3M': mmm['Return'],\n",
    "    'WBD': wbd['Return'],\n",
    "    'JNJ': jnj['Return'],\n",
    "    'AAPL': aapl['Return'],\n",
    "    'HONEY': hon['Return'],\n",
    "    'Nvidia': nvda['Return']\n",
    "})\n",
    "\n",
    "# Drop any rows with NaN values\n",
    "returns.dropna(inplace=True)\n",
    "print(returns)\n",
    "# Calculate the variance-covariance matrix\n",
    "C = returns.cov()\n",
    "\n",
    "#print(C)\n"
   ]
  },
  {
   "cell_type": "code",
   "execution_count": 97,
   "metadata": {},
   "outputs": [
    {
     "name": "stdout",
     "output_type": "stream",
     "text": [
      "Optimization terminated successfully    (Exit mode 0)\n",
      "            Current function value: 5.150908471199883e-05\n",
      "            Iterations: 1\n",
      "            Function evaluations: 7\n",
      "            Gradient evaluations: 1\n",
      "Optimal weights: [0.16666667 0.16666667 0.16666667 0.16666667 0.16666667 0.16666667]\n",
      "Objective function value at optimal weights: 5.150908471199883e-05\n",
      "Success: True\n",
      "Message: Optimization terminated successfully\n"
     ]
    }
   ],
   "source": [
    "#METHOD- 1 IMPLEMTATION\n",
    "\n",
    "w = np.ones(6)/6   #initial guess for weight matrix\n",
    "C = np.array(C)\n",
    "def obj_function(w, C):\n",
    "    P = C @ w\n",
    "    MCR = P/np.sqrt(w.T @ C @ w)\n",
    "    f = 0.0\n",
    "    for i in range(len(w)):\n",
    "        for j in range(len(w)):\n",
    "            f += (w[i] * MCR[i] - w[j] * MCR[j]) ** 2\n",
    "    return f\n",
    "\n",
    "def objective(w):\n",
    "    return obj_function(w, C)\n",
    "\n",
    "# Constraints\n",
    "constraints = (\n",
    "    {'type': 'eq', 'fun': lambda w: np.sum(w) - 1},  # Equality constraint: sum(w) = 1\n",
    "    {'type': 'ineq', 'fun': lambda w: w}             # Inequality constraint: w >= 0\n",
    ")\n",
    "\n",
    "# Bounds\n",
    "bounds = [(0, 1) for _ in range(C.shape[1])]\n",
    "\n",
    "\n",
    "\n",
    "# Optimize\n",
    "result = minimize(objective, w, method='SLSQP', constraints=constraints, bounds=bounds, options={'disp': True})\n",
    "\n",
    "# Optimal weights\n",
    "optimal_weights = result.x\n",
    "\n",
    "print(\"Optimal weights:\", optimal_weights)\n",
    "print(\"Objective function value at optimal weights:\", result.fun)\n",
    "print(\"Success:\", result.success)\n",
    "print(\"Message:\", result.message)"
   ]
  },
  {
   "cell_type": "code",
   "execution_count": 98,
   "metadata": {},
   "outputs": [
    {
     "name": "stdout",
     "output_type": "stream",
     "text": [
      "Optimization terminated successfully    (Exit mode 0)\n",
      "            Current function value: 0.034746261806249464\n",
      "            Iterations: 19\n",
      "            Function evaluations: 134\n",
      "            Gradient evaluations: 19\n",
      "Optimal weights: [0.70019818 0.445167   1.         0.79774612 1.         0.54425485]\n",
      "Objective function value at optimal weights: 0.034746261806249464\n",
      "Success: True\n",
      "Message: Optimization terminated successfully\n",
      "[0.15603767 0.09920452 0.22284787 0.17777602 0.22284787 0.12128604]\n"
     ]
    }
   ],
   "source": [
    "#METHOD-2 IMPLEMNTATION\n",
    "w = np.ones(6)/6   #initial guess for weight matrix\n",
    "C = np.array(C)\n",
    "def obj_function(w, C):\n",
    "    return np.sqrt(w.T @ C @ w)\n",
    "\n",
    "\n",
    "def objective(w):\n",
    "    return obj_function(w, C)\n",
    "\n",
    "# Constraints\n",
    "constraints = (\n",
    " {'type': 'ineq', 'fun': lambda w: np.sum(np.log(w)) + 2 },  #I have taken c = -2, you can take other arbitrary constant which gives a feasible soln\n",
    "    {'type': 'ineq', 'fun': lambda w: w}             # Inequality constraint: w >= 0\n",
    ")\n",
    "\n",
    "# Bounds\n",
    "bounds = [(0, 1) for _ in range(C.shape[1])]\n",
    "\n",
    "\n",
    "\n",
    "# Optimize\n",
    "result = minimize(objective, w, method='SLSQP', constraints=constraints, bounds=bounds, options={'disp': True})\n",
    "\n",
    "# Optimal weights\n",
    "optimal_weights = result.x\n",
    "\n",
    "print(\"Optimal weights:\", optimal_weights)\n",
    "print(\"Objective function value at optimal weights:\", result.fun)\n",
    "print(\"Success:\", result.success)\n",
    "print(\"Message:\", result.message)\n",
    "\n",
    "y = np.array(optimal_weights)\n",
    "#Normalise\n",
    "weights = y/np.sum(y)\n",
    "print(weights)   #Final weight matrix"
   ]
  },
  {
   "cell_type": "code",
   "execution_count": 99,
   "metadata": {},
   "outputs": [
    {
     "data": {
      "text/html": [
       "<div>\n",
       "<style scoped>\n",
       "    .dataframe tbody tr th:only-of-type {\n",
       "        vertical-align: middle;\n",
       "    }\n",
       "\n",
       "    .dataframe tbody tr th {\n",
       "        vertical-align: top;\n",
       "    }\n",
       "\n",
       "    .dataframe thead th {\n",
       "        text-align: right;\n",
       "    }\n",
       "</style>\n",
       "<table border=\"1\" class=\"dataframe\">\n",
       "  <thead>\n",
       "    <tr style=\"text-align: right;\">\n",
       "      <th></th>\n",
       "      <th>3M</th>\n",
       "      <th>WBD</th>\n",
       "      <th>JNJ</th>\n",
       "      <th>AAPL</th>\n",
       "      <th>HONEY</th>\n",
       "      <th>Nvidia</th>\n",
       "    </tr>\n",
       "    <tr>\n",
       "      <th>Date</th>\n",
       "      <th></th>\n",
       "      <th></th>\n",
       "      <th></th>\n",
       "      <th></th>\n",
       "      <th></th>\n",
       "      <th></th>\n",
       "    </tr>\n",
       "  </thead>\n",
       "  <tbody>\n",
       "    <tr>\n",
       "      <th>2024-01-09</th>\n",
       "      <td>0.002205</td>\n",
       "      <td>-0.032456</td>\n",
       "      <td>0.000619</td>\n",
       "      <td>-0.002263</td>\n",
       "      <td>-0.005082</td>\n",
       "      <td>0.016975</td>\n",
       "    </tr>\n",
       "    <tr>\n",
       "      <th>2024-01-10</th>\n",
       "      <td>-0.007333</td>\n",
       "      <td>-0.005440</td>\n",
       "      <td>0.001485</td>\n",
       "      <td>0.005671</td>\n",
       "      <td>0.003819</td>\n",
       "      <td>0.022770</td>\n",
       "    </tr>\n",
       "    <tr>\n",
       "      <th>2024-01-11</th>\n",
       "      <td>0.005725</td>\n",
       "      <td>-0.039198</td>\n",
       "      <td>-0.004448</td>\n",
       "      <td>-0.003222</td>\n",
       "      <td>-0.003607</td>\n",
       "      <td>0.008684</td>\n",
       "    </tr>\n",
       "    <tr>\n",
       "      <th>2024-01-12</th>\n",
       "      <td>-0.007345</td>\n",
       "      <td>0.010436</td>\n",
       "      <td>0.007695</td>\n",
       "      <td>0.001778</td>\n",
       "      <td>-0.002826</td>\n",
       "      <td>-0.002043</td>\n",
       "    </tr>\n",
       "    <tr>\n",
       "      <th>2024-01-16</th>\n",
       "      <td>-0.004439</td>\n",
       "      <td>-0.028169</td>\n",
       "      <td>-0.011516</td>\n",
       "      <td>-0.012317</td>\n",
       "      <td>-0.016559</td>\n",
       "      <td>0.030561</td>\n",
       "    </tr>\n",
       "    <tr>\n",
       "      <th>...</th>\n",
       "      <td>...</td>\n",
       "      <td>...</td>\n",
       "      <td>...</td>\n",
       "      <td>...</td>\n",
       "      <td>...</td>\n",
       "      <td>...</td>\n",
       "    </tr>\n",
       "    <tr>\n",
       "      <th>2024-06-28</th>\n",
       "      <td>-0.009499</td>\n",
       "      <td>0.012245</td>\n",
       "      <td>0.002469</td>\n",
       "      <td>-0.016254</td>\n",
       "      <td>-0.003918</td>\n",
       "      <td>-0.003629</td>\n",
       "    </tr>\n",
       "    <tr>\n",
       "      <th>2024-07-01</th>\n",
       "      <td>-0.015461</td>\n",
       "      <td>-0.045699</td>\n",
       "      <td>0.001916</td>\n",
       "      <td>0.029105</td>\n",
       "      <td>-0.012129</td>\n",
       "      <td>0.006152</td>\n",
       "    </tr>\n",
       "    <tr>\n",
       "      <th>2024-07-02</th>\n",
       "      <td>0.010039</td>\n",
       "      <td>0.014084</td>\n",
       "      <td>-0.002800</td>\n",
       "      <td>0.016240</td>\n",
       "      <td>0.010808</td>\n",
       "      <td>-0.013113</td>\n",
       "    </tr>\n",
       "    <tr>\n",
       "      <th>2024-07-03</th>\n",
       "      <td>0.000000</td>\n",
       "      <td>0.004167</td>\n",
       "      <td>-0.002328</td>\n",
       "      <td>0.005811</td>\n",
       "      <td>-0.003611</td>\n",
       "      <td>0.045732</td>\n",
       "    </tr>\n",
       "    <tr>\n",
       "      <th>2024-07-05</th>\n",
       "      <td>-0.002952</td>\n",
       "      <td>-0.002766</td>\n",
       "      <td>0.005422</td>\n",
       "      <td>0.021620</td>\n",
       "      <td>-0.001035</td>\n",
       "      <td>-0.019099</td>\n",
       "    </tr>\n",
       "  </tbody>\n",
       "</table>\n",
       "<p>123 rows × 6 columns</p>\n",
       "</div>"
      ],
      "text/plain": [
       "                  3M       WBD       JNJ      AAPL     HONEY    Nvidia\n",
       "Date                                                                  \n",
       "2024-01-09  0.002205 -0.032456  0.000619 -0.002263 -0.005082  0.016975\n",
       "2024-01-10 -0.007333 -0.005440  0.001485  0.005671  0.003819  0.022770\n",
       "2024-01-11  0.005725 -0.039198 -0.004448 -0.003222 -0.003607  0.008684\n",
       "2024-01-12 -0.007345  0.010436  0.007695  0.001778 -0.002826 -0.002043\n",
       "2024-01-16 -0.004439 -0.028169 -0.011516 -0.012317 -0.016559  0.030561\n",
       "...              ...       ...       ...       ...       ...       ...\n",
       "2024-06-28 -0.009499  0.012245  0.002469 -0.016254 -0.003918 -0.003629\n",
       "2024-07-01 -0.015461 -0.045699  0.001916  0.029105 -0.012129  0.006152\n",
       "2024-07-02  0.010039  0.014084 -0.002800  0.016240  0.010808 -0.013113\n",
       "2024-07-03  0.000000  0.004167 -0.002328  0.005811 -0.003611  0.045732\n",
       "2024-07-05 -0.002952 -0.002766  0.005422  0.021620 -0.001035 -0.019099\n",
       "\n",
       "[123 rows x 6 columns]"
      ]
     },
     "execution_count": 99,
     "metadata": {},
     "output_type": "execute_result"
    }
   ],
   "source": [
    "returns"
   ]
  },
  {
   "cell_type": "code",
   "execution_count": 100,
   "metadata": {},
   "outputs": [
    {
     "data": {
      "text/plain": [
       "123"
      ]
     },
     "execution_count": 100,
     "metadata": {},
     "output_type": "execute_result"
    }
   ],
   "source": [
    "returns.shape[0]"
   ]
  },
  {
   "cell_type": "code",
   "execution_count": 101,
   "metadata": {},
   "outputs": [],
   "source": [
    "def annualize_rets(r,periods_per_year):\n",
    "    compounded_growth=(1+r).prod()\n",
    "    n_periods= r.shape[0]\n",
    "    return compounded_growth**(periods_per_year/n_periods)-1\n",
    "\n",
    "def portfolio_return(weights,returns):\n",
    "    ''' Weights -> Returns'''\n",
    "    return weights.T @ returns\n",
    "\n",
    "def portfolio_var(weights, covmat):\n",
    "    ''' Weightd->Vol'''\n",
    "    return (weights.T @ covmat @ weights)**0.5\n"
   ]
  },
  {
   "cell_type": "code",
   "execution_count": 102,
   "metadata": {},
   "outputs": [
    {
     "data": {
      "text/plain": [
       "3M        0.012823\n",
       "WBD      -0.043713\n",
       "JNJ      -0.007986\n",
       "AAPL      0.019832\n",
       "HONEY     0.005572\n",
       "Nvidia    0.089537\n",
       "dtype: float64"
      ]
     },
     "execution_count": 102,
     "metadata": {},
     "output_type": "execute_result"
    }
   ],
   "source": [
    "#calculating expected returns\n",
    "er=annualize_rets(returns,12)\n",
    "er"
   ]
  },
  {
   "cell_type": "code",
   "execution_count": 103,
   "metadata": {},
   "outputs": [
    {
     "name": "stdout",
     "output_type": "stream",
     "text": [
      "0.011511483805127894 0.0077431305243032215\n"
     ]
    }
   ],
   "source": [
    "#Calculating Portfolio Returns and Voltility\n",
    "\n",
    "r_final= portfolio_return(weights, er)\n",
    "variance= portfolio_var(weights,C)\n",
    "\n",
    "print(\"The returns and variance for the Risk parity weights\",r_final,variance)"
   ]
  },
  {
   "cell_type": "markdown",
   "metadata": {},
   "source": [
    "#Assigning market cap weights\n"
   ]
  },
  {
   "cell_type": "code",
   "execution_count": 117,
   "metadata": {},
   "outputs": [
    {
     "name": "stdout",
     "output_type": "stream",
     "text": [
      "[  56066539520   17666734080  352530497536 3470720237568  138207723520\n",
      " 3095204200448]\n",
      "7130395932672\n",
      "[0.00786303 0.00247767 0.04944052 0.48675    0.0193829  0.43408588]\n"
     ]
    },
    {
     "data": {
      "text/plain": [
       "1.0"
      ]
     },
     "execution_count": 117,
     "metadata": {},
     "output_type": "execute_result"
    }
   ],
   "source": [
    "mmm_c=yf.Ticker(\"MMM\").info['marketCap']\n",
    "wbd_c=yf.Ticker(\"WBD\").info['marketCap']\n",
    "jnj_c=yf.Ticker(\"JNJ\").info['marketCap']\n",
    "aapl_c=yf.Ticker(\"AAPL\").info['marketCap']\n",
    "hon_c=yf.Ticker(\"HON\").info['marketCap']\n",
    "nvda_c=yf.Ticker(\"NVDA\").info['marketCap']\n",
    "l=np.array([mmm_c,wbd_c,jnj_c,aapl_c,hon_c,nvda_c])\n",
    "print(l)\n",
    "s=l.sum()\n",
    "print(s)\n",
    "mc_weights=l/s \n",
    "print(mc_weights)\n",
    "mc_weights.sum()"
   ]
  },
  {
   "cell_type": "code",
   "execution_count": 123,
   "metadata": {},
   "outputs": [
    {
     "name": "stdout",
     "output_type": "stream",
     "text": [
      "Returns and Variance on Market Cap Weights = 0.04822561220518394 0.016606843164719273\n",
      "The returns and variance for the Risk parity weights 0.011511483805127894 0.0077431305243032215\n"
     ]
    }
   ],
   "source": [
    "er_mc=annualize_rets(returns,12)\n",
    "mc_rets=portfolio_return(mc_weights,er_mc)\n",
    "mc_var=portfolio_var(mc_weights,C)\n",
    "print(\"Returns and Variance on Market Cap Weights =\", mc_rets,mc_var)\n",
    "print(\"The returns and variance for the Risk parity weights\",r_final,variance)"
   ]
  }
 ],
 "metadata": {
  "kernelspec": {
   "display_name": "base",
   "language": "python",
   "name": "python3"
  },
  "language_info": {
   "codemirror_mode": {
    "name": "ipython",
    "version": 3
   },
   "file_extension": ".py",
   "mimetype": "text/x-python",
   "name": "python",
   "nbconvert_exporter": "python",
   "pygments_lexer": "ipython3",
   "version": "3.11.7"
  }
 },
 "nbformat": 4,
 "nbformat_minor": 2
}
